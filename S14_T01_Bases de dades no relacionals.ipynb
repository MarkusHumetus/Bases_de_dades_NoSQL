{
 "cells": [
  {
   "cell_type": "code",
   "execution_count": null,
   "id": "b1d29f35",
   "metadata": {},
   "outputs": [
    {
     "name": "stdout",
     "output_type": "stream",
     "text": [
      "Python 3.7.12\n"
     ]
    }
   ],
   "source": [
    "!python --version"
   ]
  },
  {
   "cell_type": "code",
   "execution_count": 1,
   "id": "28a850ca",
   "metadata": {},
   "outputs": [
    {
     "ename": "ModuleNotFoundError",
     "evalue": "No module named 'pycaret'",
     "output_type": "error",
     "traceback": [
      "\u001b[1;31m---------------------------------------------------------------------------\u001b[0m",
      "\u001b[1;31mModuleNotFoundError\u001b[0m                       Traceback (most recent call last)",
      "\u001b[1;32m~\\AppData\\Local\\Temp\\ipykernel_25456\\3652034546.py\u001b[0m in \u001b[0;36m<module>\u001b[1;34m\u001b[0m\n\u001b[1;32m----> 1\u001b[1;33m \u001b[1;32mimport\u001b[0m \u001b[0mpycaret\u001b[0m\u001b[1;33m\u001b[0m\u001b[1;33m\u001b[0m\u001b[0m\n\u001b[0m",
      "\u001b[1;31mModuleNotFoundError\u001b[0m: No module named 'pycaret'"
     ]
    }
   ],
   "source": [
    "import pymongo"
   ]
  },
  {
   "cell_type": "code",
   "execution_count": null,
   "id": "35e6879d",
   "metadata": {},
   "outputs": [],
   "source": []
  },
  {
   "cell_type": "markdown",
   "id": "dcd6be5a",
   "metadata": {},
   "source": [
    "## Descripció"
   ]
  },
  {
   "cell_type": "markdown",
   "id": "81fbe001",
   "metadata": {},
   "source": [
    "Aprendre a crear un model relacional i diagrama entitat-relació."
   ]
  },
  {
   "cell_type": "markdown",
   "id": "317c79e2",
   "metadata": {},
   "source": [
    "## Nivell 1"
   ]
  },
  {
   "cell_type": "markdown",
   "id": "432690a4",
   "metadata": {},
   "source": [
    "**- Exercici 1:**\n",
    "Crea una base relacional d’exemple utilitzant un document de text o a mà. Dissenya-la perquè contingui les següents taules, i estableix les relacions que consideris necessàries entre elles:\n",
    "\n",
    "-\tTaula de compres (transaccions)\n",
    "\n",
    "-\tTaula d’establiments\n",
    "\n",
    "-\tTaula de treballadors\n",
    "\n",
    "-\tTaula de clients\n",
    "\n",
    "-\tTaula de productes\n",
    "\n",
    "-\tTaula de tipus de productes\n",
    "\n",
    "Defineix les propietats de les relacions (1:1, 1:n, n:n), i crea algunes de les variables que podrien contenir, per exemple:\n",
    "\n",
    "\n",
    "\n",
    "Taula d’establiments\n",
    "\n",
    "-\tIDestabliment (unique key)\n",
    "\n",
    "-\tNom\n",
    "\n",
    "-\tLocalització\n",
    "\n",
    "-\tSuperfície\n"
   ]
  },
  {
   "cell_type": "code",
   "execution_count": null,
   "id": "cd7039eb",
   "metadata": {
    "ExecuteTime": {
     "end_time": "2022-05-16T09:02:06.300920Z",
     "start_time": "2022-05-16T09:02:06.264019Z"
    }
   },
   "outputs": [],
   "source": []
  },
  {
   "cell_type": "code",
   "execution_count": 1,
   "id": "0299ceea",
   "metadata": {
    "ExecuteTime": {
     "end_time": "2022-05-18T07:18:05.533705Z",
     "start_time": "2022-05-18T07:18:00.514895Z"
    }
   },
   "outputs": [],
   "source": [
    "import matplotlib.pyplot as plt\n",
    "import seaborn as sns\n",
    "import numpy as np\n",
    "import pandas as pd\n",
    "import re\n",
    "\n",
    "import MySQLdb\n",
    "\n",
    "%matplotlib inline   "
   ]
  },
  {
   "cell_type": "markdown",
   "id": "cfd09d6e",
   "metadata": {},
   "source": [
    "El document l'he fet amb power point i l'he salvat a format.png\n",
    "\n",
    "Els atributs que comencen amb ID_ són claus primaries i els que acaben amb \\_ID són claus secundaries. "
   ]
  },
  {
   "cell_type": "markdown",
   "id": "8c5f578c",
   "metadata": {},
   "source": [
    "<img src=\"BBDD relacionals_Ferreteria5.png\">"
   ]
  },
  {
   "cell_type": "markdown",
   "id": "d29f145a",
   "metadata": {},
   "source": [
    "Justificació de les relacions:\n",
    "* **De producte a transaccions(n:n)**: una transacció pot tenir diferents productes i un producte pot estar a moltes transaccions.\n",
    "* **De client a transaccions (1:n)**: una transacció només pot tenir un client però un client pot estar a diferents transaccions.\n",
    "* **De treballador a establiment(n:n)**: un treballador pot treballar a diferents establiments segons el dia i cada establiment té més d'un treballador.\n",
    "* **De tipus de producte a producte (1:n)**: un tipus de producte conté molts productes diferents però un producte concret només està dintre d'un tipus/categoria.\n",
    "* **D'establiment a transaccions (1:n)**: una transacció només pot contenir 1 sol establiment però un client pot estar a diferents transaccions.\n"
   ]
  },
  {
   "cell_type": "markdown",
   "id": "8496cfc3",
   "metadata": {},
   "source": [
    "## Nivell 2"
   ]
  },
  {
   "cell_type": "markdown",
   "id": "7e66f58e",
   "metadata": {},
   "source": [
    "**- Exercici 2:**\n",
    "Utilitza un programa de creació de diagrames entitat-relació com http://dia-installer.de per crear el diagrama."
   ]
  },
  {
   "cell_type": "markdown",
   "id": "f868f2d5",
   "metadata": {
    "ExecuteTime": {
     "end_time": "2022-05-16T08:48:33.882470Z",
     "start_time": "2022-05-16T08:48:33.863521Z"
    }
   },
   "source": [
    "<img src=\"Diagrama_Ferreteria2.png\">"
   ]
  },
  {
   "cell_type": "markdown",
   "id": "b68e6fbb",
   "metadata": {},
   "source": [
    "## Nivell 3"
   ]
  },
  {
   "cell_type": "markdown",
   "id": "72163d27",
   "metadata": {},
   "source": [
    " **- Exercici 3:** Utilitza el Workbench de MySQL per crear un model relacional. "
   ]
  },
  {
   "cell_type": "markdown",
   "id": "e9cb11a1",
   "metadata": {},
   "source": [
    "Ho faig amb el phpMyAdmin:"
   ]
  },
  {
   "cell_type": "code",
   "execution_count": 3,
   "id": "6e92e5b8",
   "metadata": {
    "ExecuteTime": {
     "end_time": "2022-05-18T07:19:22.119593Z",
     "start_time": "2022-05-18T07:19:22.104632Z"
    }
   },
   "outputs": [],
   "source": [
    "db=MySQLdb.connect('localhost','root', '', 'ferreteria_el_clau_clau')"
   ]
  },
  {
   "cell_type": "code",
   "execution_count": 4,
   "id": "a1197ff7",
   "metadata": {
    "ExecuteTime": {
     "end_time": "2022-05-18T07:19:22.949371Z",
     "start_time": "2022-05-18T07:19:22.904492Z"
    }
   },
   "outputs": [
    {
     "name": "stdout",
     "output_type": "stream",
     "text": [
      "Registro entrado correctamente!\n"
     ]
    }
   ],
   "source": [
    "#Entrada de registres a la base de dades creada anteriorment mitjançant Jupyter notebook.\n",
    "insertrec=db.cursor()\n",
    "sqlquery=\"insert into clients(ID_client, nom, cognoms, nom_empresa, telefon, adreca) values ('','Pere', 'Gonzalez Rico', 'Tupinamba','23423399', 'c/Mallorca 54 Barcelona') \"\n",
    "insertrec.execute(sqlquery) \n",
    "db.commit()\n",
    "print ('Registro entrado correctamente!')\n",
    "db.close()"
   ]
  },
  {
   "cell_type": "markdown",
   "id": "6109e402",
   "metadata": {},
   "source": [
    "#Les dades es poden incorporar mitjançant el comandament input o bé emprant el phpMyAdmin directament. Posem com exemple per entrar un nou establiment (cal posar restriccions per a que les entrades encaixin amb el tipus de registre!!)"
   ]
  },
  {
   "cell_type": "code",
   "execution_count": 54,
   "id": "6ad896c7",
   "metadata": {
    "ExecuteTime": {
     "end_time": "2022-05-18T07:58:02.910861Z",
     "start_time": "2022-05-18T07:57:28.534074Z"
    }
   },
   "outputs": [
    {
     "name": "stdout",
     "output_type": "stream",
     "text": [
      "Digues el nom de l'establiment: Hospiferro\n",
      "Adreça de l'establiment Hospiferro?: c/Pou 34\n",
      "Digues la superfície de l'establiment (<10000): 569\n"
     ]
    }
   ],
   "source": [
    " nomEstabliment ,localitzacioEstabliment, superficieEstabliment = '','',0\n",
    "    \n",
    "while (nomEstabliment == '') or (len(nomEstabliment)>50): \n",
    "    nomEstabliment = input (\"Digues el nom de l'establiment: \")\n",
    "    if nomEstabliment == '' or len(nomEstabliment)>50:\n",
    "        print( \"El nom de l'establiment ha de tenir un màxim de 50 caracters i no pot estar buit.\")\n",
    "           \n",
    "while localitzacioEstabliment == '' or len(localitzacioEstabliment) > 1000: \n",
    "    localitzacioEstabliment = input ( f\"Adreça de l'establiment {nomEstabliment}?: \")\n",
    "    if localitzacioEstabliment == '' or len(localitzacioEstabliment) > 100:\n",
    "        print( \"La localització de l'establiment ha de tenir un màxim de 100 caracters i no pot estar buit.\")\n",
    "           \n",
    "while superficieEstabliment == 0 or superficieEstabliment > 9999 : \n",
    "    superficieEstabliment = input (\"Digues la superfície de l'establiment (<10000): \")\n",
    "   \n",
    "    try:\n",
    "        superficieEstabliment=int( superficieEstabliment)\n",
    "        if superficieEstabliment == 0 or superficieEstabliment >9999:        \n",
    "            print( \"La superfície de l'establiment ha de ser un número sencer (<10000) i no pots deixar-ho buit.\")                     \n",
    "            \n",
    "    except:\n",
    "        print(\"La superfície de l'establiment ha de ser un número sencer (<10000) i no pots deixar-ho buit.\")\n",
    "        superficieEstabliment = 0 "
   ]
  },
  {
   "cell_type": "code",
   "execution_count": 55,
   "id": "9cf66a74",
   "metadata": {
    "ExecuteTime": {
     "end_time": "2022-05-18T07:58:05.494740Z",
     "start_time": "2022-05-18T07:58:05.472796Z"
    }
   },
   "outputs": [
    {
     "data": {
      "text/plain": [
       "569"
      ]
     },
     "execution_count": 55,
     "metadata": {},
     "output_type": "execute_result"
    }
   ],
   "source": [
    "superficieEstabliment\n"
   ]
  },
  {
   "cell_type": "code",
   "execution_count": 66,
   "id": "61d9985d",
   "metadata": {
    "ExecuteTime": {
     "end_time": "2022-05-18T08:01:06.162335Z",
     "start_time": "2022-05-18T08:01:06.151402Z"
    },
    "scrolled": true
   },
   "outputs": [],
   "source": [
    "db=MySQLdb.connect('localhost','root', '', 'ferreteria_el_clau_clau')\n",
    "insertrec=db.cursor()\n",
    "sqlquery =(f\"INSERT INTO 'establiments'('ID_establiment', 'nom', 'localitzacio', 'superficie')  VALUES (NULL, '{nomEstabliment}', '{localitzacioEstabliment}', 230); \")"
   ]
  },
  {
   "cell_type": "code",
   "execution_count": 67,
   "id": "642c9a52",
   "metadata": {
    "ExecuteTime": {
     "end_time": "2022-05-18T08:01:06.881712Z",
     "start_time": "2022-05-18T08:01:06.858738Z"
    }
   },
   "outputs": [
    {
     "data": {
      "text/plain": [
       "\"INSERT INTO 'establiments'('ID_establiment', 'nom', 'localitzacio', 'superficie')  VALUES (NULL, 'Hospiferro', 'c/Pou 34', 230); \""
      ]
     },
     "execution_count": 67,
     "metadata": {},
     "output_type": "execute_result"
    }
   ],
   "source": [
    "#INSERT INTO `establiments` (`ID_establiment`, `nom`, `localitzacio`, `superficie`) VALUES (NULL, 'Ferrati Sabadell', 'Rambla 112', '345')\n",
    "\n",
    "sqlquery"
   ]
  },
  {
   "cell_type": "code",
   "execution_count": 68,
   "id": "ab00e582",
   "metadata": {
    "ExecuteTime": {
     "end_time": "2022-05-18T08:01:12.928343Z",
     "start_time": "2022-05-18T08:01:12.883463Z"
    }
   },
   "outputs": [
    {
     "ename": "ProgrammingError",
     "evalue": "(1064, \"You have an error in your SQL syntax; check the manual that corresponds to your MariaDB server version for the right syntax to use near ''establiments'('ID_establiment', 'nom', 'localitzacio', 'superficie')  VALUES...' at line 1\")",
     "output_type": "error",
     "traceback": [
      "\u001b[1;31m---------------------------------------------------------------------------\u001b[0m",
      "\u001b[1;31mProgrammingError\u001b[0m                          Traceback (most recent call last)",
      "\u001b[1;32m~\\AppData\\Local\\Temp\\ipykernel_15944\\2954046237.py\u001b[0m in \u001b[0;36m<module>\u001b[1;34m\u001b[0m\n\u001b[1;32m----> 1\u001b[1;33m \u001b[0minsertrec\u001b[0m\u001b[1;33m.\u001b[0m\u001b[0mexecute\u001b[0m\u001b[1;33m(\u001b[0m\u001b[0msqlquery\u001b[0m\u001b[1;33m)\u001b[0m\u001b[1;33m\u001b[0m\u001b[1;33m\u001b[0m\u001b[0m\n\u001b[0m\u001b[0;32m      2\u001b[0m \u001b[0mdb\u001b[0m\u001b[1;33m.\u001b[0m\u001b[0mcommit\u001b[0m\u001b[1;33m(\u001b[0m\u001b[1;33m)\u001b[0m\u001b[1;33m\u001b[0m\u001b[1;33m\u001b[0m\u001b[0m\n\u001b[0;32m      3\u001b[0m \u001b[0mprint\u001b[0m \u001b[1;33m(\u001b[0m\u001b[1;34m'Registro entrado correctamente!'\u001b[0m\u001b[1;33m)\u001b[0m\u001b[1;33m\u001b[0m\u001b[1;33m\u001b[0m\u001b[0m\n",
      "\u001b[1;32m~\\anaconda3\\envs\\Pycaret37\\lib\\site-packages\\MySQLdb\\cursors.py\u001b[0m in \u001b[0;36mexecute\u001b[1;34m(self, query, args)\u001b[0m\n\u001b[0;32m    204\u001b[0m \u001b[1;33m\u001b[0m\u001b[0m\n\u001b[0;32m    205\u001b[0m         \u001b[1;32massert\u001b[0m \u001b[0misinstance\u001b[0m\u001b[1;33m(\u001b[0m\u001b[0mquery\u001b[0m\u001b[1;33m,\u001b[0m \u001b[1;33m(\u001b[0m\u001b[0mbytes\u001b[0m\u001b[1;33m,\u001b[0m \u001b[0mbytearray\u001b[0m\u001b[1;33m)\u001b[0m\u001b[1;33m)\u001b[0m\u001b[1;33m\u001b[0m\u001b[1;33m\u001b[0m\u001b[0m\n\u001b[1;32m--> 206\u001b[1;33m         \u001b[0mres\u001b[0m \u001b[1;33m=\u001b[0m \u001b[0mself\u001b[0m\u001b[1;33m.\u001b[0m\u001b[0m_query\u001b[0m\u001b[1;33m(\u001b[0m\u001b[0mquery\u001b[0m\u001b[1;33m)\u001b[0m\u001b[1;33m\u001b[0m\u001b[1;33m\u001b[0m\u001b[0m\n\u001b[0m\u001b[0;32m    207\u001b[0m         \u001b[1;32mreturn\u001b[0m \u001b[0mres\u001b[0m\u001b[1;33m\u001b[0m\u001b[1;33m\u001b[0m\u001b[0m\n\u001b[0;32m    208\u001b[0m \u001b[1;33m\u001b[0m\u001b[0m\n",
      "\u001b[1;32m~\\anaconda3\\envs\\Pycaret37\\lib\\site-packages\\MySQLdb\\cursors.py\u001b[0m in \u001b[0;36m_query\u001b[1;34m(self, q)\u001b[0m\n\u001b[0;32m    317\u001b[0m         \u001b[0mdb\u001b[0m \u001b[1;33m=\u001b[0m \u001b[0mself\u001b[0m\u001b[1;33m.\u001b[0m\u001b[0m_get_db\u001b[0m\u001b[1;33m(\u001b[0m\u001b[1;33m)\u001b[0m\u001b[1;33m\u001b[0m\u001b[1;33m\u001b[0m\u001b[0m\n\u001b[0;32m    318\u001b[0m         \u001b[0mself\u001b[0m\u001b[1;33m.\u001b[0m\u001b[0m_result\u001b[0m \u001b[1;33m=\u001b[0m \u001b[1;32mNone\u001b[0m\u001b[1;33m\u001b[0m\u001b[1;33m\u001b[0m\u001b[0m\n\u001b[1;32m--> 319\u001b[1;33m         \u001b[0mdb\u001b[0m\u001b[1;33m.\u001b[0m\u001b[0mquery\u001b[0m\u001b[1;33m(\u001b[0m\u001b[0mq\u001b[0m\u001b[1;33m)\u001b[0m\u001b[1;33m\u001b[0m\u001b[1;33m\u001b[0m\u001b[0m\n\u001b[0m\u001b[0;32m    320\u001b[0m         \u001b[0mself\u001b[0m\u001b[1;33m.\u001b[0m\u001b[0m_do_get_result\u001b[0m\u001b[1;33m(\u001b[0m\u001b[0mdb\u001b[0m\u001b[1;33m)\u001b[0m\u001b[1;33m\u001b[0m\u001b[1;33m\u001b[0m\u001b[0m\n\u001b[0;32m    321\u001b[0m         \u001b[0mself\u001b[0m\u001b[1;33m.\u001b[0m\u001b[0m_post_get_result\u001b[0m\u001b[1;33m(\u001b[0m\u001b[1;33m)\u001b[0m\u001b[1;33m\u001b[0m\u001b[1;33m\u001b[0m\u001b[0m\n",
      "\u001b[1;32m~\\anaconda3\\envs\\Pycaret37\\lib\\site-packages\\MySQLdb\\connections.py\u001b[0m in \u001b[0;36mquery\u001b[1;34m(self, query)\u001b[0m\n\u001b[0;32m    252\u001b[0m         \u001b[1;32mif\u001b[0m \u001b[0misinstance\u001b[0m\u001b[1;33m(\u001b[0m\u001b[0mquery\u001b[0m\u001b[1;33m,\u001b[0m \u001b[0mbytearray\u001b[0m\u001b[1;33m)\u001b[0m\u001b[1;33m:\u001b[0m\u001b[1;33m\u001b[0m\u001b[1;33m\u001b[0m\u001b[0m\n\u001b[0;32m    253\u001b[0m             \u001b[0mquery\u001b[0m \u001b[1;33m=\u001b[0m \u001b[0mbytes\u001b[0m\u001b[1;33m(\u001b[0m\u001b[0mquery\u001b[0m\u001b[1;33m)\u001b[0m\u001b[1;33m\u001b[0m\u001b[1;33m\u001b[0m\u001b[0m\n\u001b[1;32m--> 254\u001b[1;33m         \u001b[0m_mysql\u001b[0m\u001b[1;33m.\u001b[0m\u001b[0mconnection\u001b[0m\u001b[1;33m.\u001b[0m\u001b[0mquery\u001b[0m\u001b[1;33m(\u001b[0m\u001b[0mself\u001b[0m\u001b[1;33m,\u001b[0m \u001b[0mquery\u001b[0m\u001b[1;33m)\u001b[0m\u001b[1;33m\u001b[0m\u001b[1;33m\u001b[0m\u001b[0m\n\u001b[0m\u001b[0;32m    255\u001b[0m \u001b[1;33m\u001b[0m\u001b[0m\n\u001b[0;32m    256\u001b[0m     \u001b[1;32mdef\u001b[0m \u001b[0m_bytes_literal\u001b[0m\u001b[1;33m(\u001b[0m\u001b[0mself\u001b[0m\u001b[1;33m,\u001b[0m \u001b[0mbs\u001b[0m\u001b[1;33m)\u001b[0m\u001b[1;33m:\u001b[0m\u001b[1;33m\u001b[0m\u001b[1;33m\u001b[0m\u001b[0m\n",
      "\u001b[1;31mProgrammingError\u001b[0m: (1064, \"You have an error in your SQL syntax; check the manual that corresponds to your MariaDB server version for the right syntax to use near ''establiments'('ID_establiment', 'nom', 'localitzacio', 'superficie')  VALUES...' at line 1\")"
     ]
    }
   ],
   "source": [
    "insertrec.execute(sqlquery) \n",
    "db.commit()\n",
    "print ('Registro entrado correctamente!')"
   ]
  },
  {
   "cell_type": "code",
   "execution_count": 59,
   "id": "a5553f8c",
   "metadata": {
    "ExecuteTime": {
     "end_time": "2022-05-18T07:58:51.285222Z",
     "start_time": "2022-05-18T07:58:51.270263Z"
    }
   },
   "outputs": [],
   "source": [
    "db.close()"
   ]
  },
  {
   "cell_type": "markdown",
   "id": "7cdc8808",
   "metadata": {
    "ExecuteTime": {
     "end_time": "2022-05-16T09:40:58.284424Z",
     "start_time": "2022-05-16T09:40:58.272457Z"
    }
   },
   "source": [
    "Tutotials Python i PHPMyAdmin:\n",
    " * https://youtu.be/hyijyu-8PPA\n",
    " * https://www.youtube.com/watch?v=OAwyfT2pZzQ\n",
    " "
   ]
  },
  {
   "cell_type": "markdown",
   "id": "12b01e2e",
   "metadata": {
    "ExecuteTime": {
     "end_time": "2022-05-17T18:27:06.061268Z",
     "start_time": "2022-05-17T18:27:06.039327Z"
    }
   },
   "source": [
    "Finalment desisteixo perquè no trobo l'error en la Query, és molt més fàcil entrar dades, generar taules i BBDD directament des de la Phpmyadmin. I segueixo practicant en la 2a part del Sprint. Ho deixo a veure si tu en treus l'entrellat però realment no hi veig perquè invertir-hi més temps..."
   ]
  }
 ],
 "metadata": {
  "interpreter": {
   "hash": "4e40ef67ce1bbc9774e3d9c3c2867959c2d135b6c3d68f4d44ef323061ee0401"
  },
  "kernelspec": {
   "display_name": "Python 3.7.12 ('Scrapping_and_BBDD')",
   "language": "python",
   "name": "python3"
  },
  "language_info": {
   "codemirror_mode": {
    "name": "ipython",
    "version": 3
   },
   "file_extension": ".py",
   "mimetype": "text/x-python",
   "name": "python",
   "nbconvert_exporter": "python",
   "pygments_lexer": "ipython3",
   "version": "3.7.12"
  },
  "latex_envs": {
   "LaTeX_envs_menu_present": true,
   "autoclose": false,
   "autocomplete": true,
   "bibliofile": "biblio.bib",
   "cite_by": "apalike",
   "current_citInitial": 1,
   "eqLabelWithNumbers": true,
   "eqNumInitial": 1,
   "hotkeys": {
    "equation": "Ctrl-E",
    "itemize": "Ctrl-I"
   },
   "labels_anchors": false,
   "latex_user_defs": false,
   "report_style_numbering": false,
   "user_envs_cfg": false
  }
 },
 "nbformat": 4,
 "nbformat_minor": 5
}
